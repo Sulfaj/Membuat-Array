{
  "nbformat": 4,
  "nbformat_minor": 0,
  "metadata": {
    "colab": {
      "provenance": [],
      "collapsed_sections": []
    },
    "kernelspec": {
      "name": "python3",
      "display_name": "Python 3"
    },
    "language_info": {
      "name": "python"
    }
  },
  "cells": [
    {
      "cell_type": "markdown",
      "source": [
        "# 1) Mengonversi urutan Python ke NumPy Arrays \n",
        "\n",
        "Array NumPy dapat didefinisikan menggunakan urutan Python seperti daftar dan tupel. Daftar dan tupel didefinisikan menggunakan [...]dan (...), masing-masing. Daftar dan tupel dapat menentukan pembuatan ndarray:\n",
        "\n",
        "-daftar angka akan membuat larik 1D,\n",
        "\n",
        "-daftar daftar akan membuat larik 2D,\n",
        "\n",
        "-daftar bersarang lebih lanjut akan membuat array berdimensi lebih tinggi. Secara umum, objek array apa pun disebut ndarray di NumPy."
      ],
      "metadata": {
        "id": "m8iDPsrabAn2"
      }
    },
    {
      "cell_type": "markdown",
      "source": [
        "## Import library"
      ],
      "metadata": {
        "id": "d5r9HKLzaCzb"
      }
    },
    {
      "cell_type": "code",
      "execution_count": null,
      "metadata": {
        "id": "tCPdj6xFZU1M"
      },
      "outputs": [],
      "source": [
        "import numpy as np"
      ]
    },
    {
      "cell_type": "code",
      "source": [
        "a1D = np.array([1, 2, 3, 4])\n",
        "a2D = np.array([[1, 2], [3, 4]])\n",
        "a3D = np.array([[[1, 2], [3, 4]], [[5, 6], [7, 8]]])"
      ],
      "metadata": {
        "id": "WVzDoXBXZfXV"
      },
      "execution_count": null,
      "outputs": []
    },
    {
      "cell_type": "markdown",
      "source": [
        "#### Array 1 dimensi"
      ],
      "metadata": {
        "id": "3WFvVHlvaSlZ"
      }
    },
    {
      "cell_type": "code",
      "source": [
        "print(a1D)"
      ],
      "metadata": {
        "colab": {
          "base_uri": "https://localhost:8080/"
        },
        "id": "EeDCFK01Zfb_",
        "outputId": "966e15df-ca2e-4736-95e5-5ad68f594357"
      },
      "execution_count": null,
      "outputs": [
        {
          "output_type": "stream",
          "name": "stdout",
          "text": [
            "[1 2 3 4]\n"
          ]
        }
      ]
    },
    {
      "cell_type": "markdown",
      "source": [
        "#### Array 2 dimensi"
      ],
      "metadata": {
        "id": "cilw9WM0aiFb"
      }
    },
    {
      "cell_type": "code",
      "source": [
        "print(a2D)"
      ],
      "metadata": {
        "colab": {
          "base_uri": "https://localhost:8080/"
        },
        "id": "N8P520HHZffY",
        "outputId": "5ff971ee-bda4-4197-e643-6fad942d099a"
      },
      "execution_count": null,
      "outputs": [
        {
          "output_type": "stream",
          "name": "stdout",
          "text": [
            "[[1 2]\n",
            " [3 4]]\n"
          ]
        }
      ]
    },
    {
      "cell_type": "markdown",
      "source": [
        "#### Array 3 dimensi"
      ],
      "metadata": {
        "id": "SqigqTnMamUR"
      }
    },
    {
      "cell_type": "code",
      "source": [
        "print(a3D)"
      ],
      "metadata": {
        "colab": {
          "base_uri": "https://localhost:8080/"
        },
        "id": "WwmLaDK_Zfls",
        "outputId": "43c77637-65d2-40c5-b89c-7a8fffb0709d"
      },
      "execution_count": null,
      "outputs": [
        {
          "output_type": "stream",
          "name": "stdout",
          "text": [
            "[[[1 2]\n",
            "  [3 4]]\n",
            "\n",
            " [[5 6]\n",
            "  [7 8]]]\n"
          ]
        }
      ]
    },
    {
      "cell_type": "markdown",
      "source": [
        "# 2) Fungsi pembuatan array NumPy Intrinsik \n",
        "\n",
        "NumPy memiliki lebih dari 40 fungsi bawaan untuk membuat array seperti yang dijelaskan dalam rutinitas pembuatan Array . Fungsi-fungsi ini dapat dibagi menjadi kira-kira tiga kategori, berdasarkan dimensi array yang mereka buat:\n",
        "\n",
        "1. array 1D\n",
        "\n",
        "2. array 2D\n",
        "\n",
        "3. ndarrays"
      ],
      "metadata": {
        "id": "kfZloSHFco6p"
      }
    },
    {
      "cell_type": "markdown",
      "source": [
        "###1 - Fungsi pembuatan larik 1D \n",
        "Fungsi pembuatan array 1D misalnya numpy.linspacedan numpy.arange umumnya membutuhkan setidaknya dua input, start dan stop.\n",
        "\n",
        "numpy.arange membuat array dengan nilai yang bertambah secara teratur. Periksa dokumentasi untuk informasi lengkap dan contoh. Beberapa contoh ditunjukkan:"
      ],
      "metadata": {
        "id": "q6RLkEL5dEha"
      }
    },
    {
      "cell_type": "code",
      "source": [
        "np.arange(10)"
      ],
      "metadata": {
        "colab": {
          "base_uri": "https://localhost:8080/"
        },
        "id": "6g5cNoRfaMgU",
        "outputId": "34cacc3d-9f52-46dd-ff39-89fcbdf51282"
      },
      "execution_count": null,
      "outputs": [
        {
          "output_type": "execute_result",
          "data": {
            "text/plain": [
              "array([0, 1, 2, 3, 4, 5, 6, 7, 8, 9])"
            ]
          },
          "metadata": {},
          "execution_count": 6
        }
      ]
    },
    {
      "cell_type": "code",
      "source": [
        "np.arange(2, 10, dtype=float)"
      ],
      "metadata": {
        "colab": {
          "base_uri": "https://localhost:8080/"
        },
        "id": "dH3UiCbgdYxV",
        "outputId": "e867a3da-b406-4af1-fc2c-4912707e2e32"
      },
      "execution_count": null,
      "outputs": [
        {
          "output_type": "execute_result",
          "data": {
            "text/plain": [
              "array([2., 3., 4., 5., 6., 7., 8., 9.])"
            ]
          },
          "metadata": {},
          "execution_count": 7
        }
      ]
    },
    {
      "cell_type": "code",
      "source": [
        "np.arange(2, 3, 0.1)"
      ],
      "metadata": {
        "colab": {
          "base_uri": "https://localhost:8080/"
        },
        "id": "yi-_arfxdcG6",
        "outputId": "525647a7-1b83-4ebb-880f-abc5076808eb"
      },
      "execution_count": null,
      "outputs": [
        {
          "output_type": "execute_result",
          "data": {
            "text/plain": [
              "array([2. , 2.1, 2.2, 2.3, 2.4, 2.5, 2.6, 2.7, 2.8, 2.9])"
            ]
          },
          "metadata": {},
          "execution_count": 8
        }
      ]
    },
    {
      "cell_type": "markdown",
      "source": [
        "Catatan: praktik terbaik untuk numpy.arange adalah menggunakan nilai awal, akhir, dan langkah bilangan bulat. Ada beberapa seluk-beluk tentang dtype. Dalam contoh kedua, dtype didefinisikan. Pada contoh ketiga, array adalah dtype=float untuk mengakomodasi ukuran langkah 0.1. Karena kesalahan pembulatan, stop nilai terkadang disertakan.\n",
        "\n",
        "numpy.linspace akan membuat array dengan jumlah elemen tertentu, dan diberi jarak yang sama antara nilai awal dan akhir yang ditentukan. Sebagai contoh:"
      ],
      "metadata": {
        "id": "F6j6mfUqdzA6"
      }
    },
    {
      "cell_type": "code",
      "source": [
        "np.linspace(1., 4., 6)"
      ],
      "metadata": {
        "colab": {
          "base_uri": "https://localhost:8080/"
        },
        "id": "h9waZFIDdefs",
        "outputId": "1129540f-103b-4e4a-8fc6-b9a5f09022be"
      },
      "execution_count": null,
      "outputs": [
        {
          "output_type": "execute_result",
          "data": {
            "text/plain": [
              "array([1. , 1.6, 2.2, 2.8, 3.4, 4. ])"
            ]
          },
          "metadata": {},
          "execution_count": 9
        }
      ]
    },
    {
      "cell_type": "markdown",
      "source": [
        "Keuntungan dari fungsi pembuatan ini adalah Anda menjamin jumlah elemen dan titik awal dan akhir. Yang sebelumnya tidak akan menyertakan nilai.arange (start, stop, step)stop"
      ],
      "metadata": {
        "id": "J-rn_04JekNM"
      }
    },
    {
      "cell_type": "markdown",
      "source": [
        "### 2 - Fungsi pembuatan array 2D \n",
        "Fungsi pembuatan array 2D misalnya numpy.eye, numpy.diag, dan numpy.vander mendefinisikan properti dari matriks khusus yang direpresentasikan sebagai array 2D.\n",
        "\n",
        "np.eye(n, m) mendefinisikan matriks identitas 2D. Elemen di mana i=j (indeks baris dan indeks kolom sama) adalah 1 dan sisanya adalah 0, seperti:"
      ],
      "metadata": {
        "id": "5V4uK_N9e8QI"
      }
    },
    {
      "cell_type": "code",
      "source": [
        "np.eye(3)"
      ],
      "metadata": {
        "colab": {
          "base_uri": "https://localhost:8080/"
        },
        "id": "19wUy6nVeEWr",
        "outputId": "c486cc02-b415-40e9-8a61-a17b820ccd90"
      },
      "execution_count": null,
      "outputs": [
        {
          "output_type": "execute_result",
          "data": {
            "text/plain": [
              "array([[1., 0., 0.],\n",
              "       [0., 1., 0.],\n",
              "       [0., 0., 1.]])"
            ]
          },
          "metadata": {},
          "execution_count": 10
        }
      ]
    },
    {
      "cell_type": "code",
      "source": [
        "np.eye(3, 5)"
      ],
      "metadata": {
        "colab": {
          "base_uri": "https://localhost:8080/"
        },
        "id": "_oMhahRwfKsx",
        "outputId": "1958fabc-f5fc-4258-ea9a-dcd5450e72d5"
      },
      "execution_count": null,
      "outputs": [
        {
          "output_type": "execute_result",
          "data": {
            "text/plain": [
              "array([[1., 0., 0., 0., 0.],\n",
              "       [0., 1., 0., 0., 0.],\n",
              "       [0., 0., 1., 0., 0.]])"
            ]
          },
          "metadata": {},
          "execution_count": 11
        }
      ]
    },
    {
      "cell_type": "markdown",
      "source": [
        "numpy.diag dapat mendefinisikan baik array 2D persegi dengan nilai yang diberikan sepanjang diagonal atau jika diberikan array 2D mengembalikan array 1D yang hanya elemen diagonal. Dua fungsi pembuatan array dapat membantu saat melakukan aljabar linier, seperti:"
      ],
      "metadata": {
        "id": "FdWATjfCfdPf"
      }
    },
    {
      "cell_type": "code",
      "source": [
        "np.diag([1, 2, 3])"
      ],
      "metadata": {
        "colab": {
          "base_uri": "https://localhost:8080/"
        },
        "id": "RjvpGUjVfS_d",
        "outputId": "2f4d8cae-f43a-4426-90d2-5319e684355a"
      },
      "execution_count": null,
      "outputs": [
        {
          "output_type": "execute_result",
          "data": {
            "text/plain": [
              "array([[1, 0, 0],\n",
              "       [0, 2, 0],\n",
              "       [0, 0, 3]])"
            ]
          },
          "metadata": {},
          "execution_count": 12
        }
      ]
    },
    {
      "cell_type": "code",
      "source": [
        "np.diag([1, 2, 3], 1)"
      ],
      "metadata": {
        "colab": {
          "base_uri": "https://localhost:8080/"
        },
        "id": "oQhNXWQjfj77",
        "outputId": "c2a2426d-1b44-4717-ee58-22de41b9c8c5"
      },
      "execution_count": null,
      "outputs": [
        {
          "output_type": "execute_result",
          "data": {
            "text/plain": [
              "array([[0, 1, 0, 0],\n",
              "       [0, 0, 2, 0],\n",
              "       [0, 0, 0, 3],\n",
              "       [0, 0, 0, 0]])"
            ]
          },
          "metadata": {},
          "execution_count": 13
        }
      ]
    },
    {
      "cell_type": "code",
      "source": [
        "a = np.array([[1, 2], [3, 4]])\n",
        "np.diag(a)"
      ],
      "metadata": {
        "colab": {
          "base_uri": "https://localhost:8080/"
        },
        "id": "YnoHbR55fnVv",
        "outputId": "6cca9ea5-cf54-48ea-e6df-f2139150e7d2"
      },
      "execution_count": null,
      "outputs": [
        {
          "output_type": "execute_result",
          "data": {
            "text/plain": [
              "array([1, 4])"
            ]
          },
          "metadata": {},
          "execution_count": 14
        }
      ]
    },
    {
      "cell_type": "markdown",
      "source": [
        "vander(x, n) mendefinisikan matriks Vandermonde sebagai array NumPy 2D. Setiap kolom dari matriks Vandermonde adalah pangkat menurun dari larik atau daftar atau tupel 1D input, xdi mana orde polinomial tertinggi adalah n-1. Rutinitas pembuatan array ini sangat membantu dalam menghasilkan model kuadrat terkecil linier, seperti:"
      ],
      "metadata": {
        "id": "J1IqNet1f8R_"
      }
    },
    {
      "cell_type": "code",
      "source": [
        "np.vander(np.linspace(0, 2, 5), 2)"
      ],
      "metadata": {
        "colab": {
          "base_uri": "https://localhost:8080/"
        },
        "id": "rZS8p-b2fvtA",
        "outputId": "6cefd117-e9cd-47ad-da46-d8302cb22df1"
      },
      "execution_count": null,
      "outputs": [
        {
          "output_type": "execute_result",
          "data": {
            "text/plain": [
              "array([[0. , 1. ],\n",
              "       [0.5, 1. ],\n",
              "       [1. , 1. ],\n",
              "       [1.5, 1. ],\n",
              "       [2. , 1. ]])"
            ]
          },
          "metadata": {},
          "execution_count": 15
        }
      ]
    },
    {
      "cell_type": "code",
      "source": [
        "np.vander([1, 2, 3, 4], 2)"
      ],
      "metadata": {
        "colab": {
          "base_uri": "https://localhost:8080/"
        },
        "id": "KmD4E_VdgDxS",
        "outputId": "047a6791-7498-467c-a88f-e4a689d1670f"
      },
      "execution_count": null,
      "outputs": [
        {
          "output_type": "execute_result",
          "data": {
            "text/plain": [
              "array([[1, 1],\n",
              "       [2, 1],\n",
              "       [3, 1],\n",
              "       [4, 1]])"
            ]
          },
          "metadata": {},
          "execution_count": 16
        }
      ]
    },
    {
      "cell_type": "code",
      "source": [
        "np.vander((1, 2, 3, 4), 4)"
      ],
      "metadata": {
        "colab": {
          "base_uri": "https://localhost:8080/"
        },
        "id": "LzuTJ8YvgHCl",
        "outputId": "5dba9ba0-c4fd-4c06-b7bf-a66315f891fe"
      },
      "execution_count": null,
      "outputs": [
        {
          "output_type": "execute_result",
          "data": {
            "text/plain": [
              "array([[ 1,  1,  1,  1],\n",
              "       [ 8,  4,  2,  1],\n",
              "       [27,  9,  3,  1],\n",
              "       [64, 16,  4,  1]])"
            ]
          },
          "metadata": {},
          "execution_count": 17
        }
      ]
    },
    {
      "cell_type": "markdown",
      "source": [
        "###3 - fungsi pembuatan ndarray umum \n",
        "\n",
        "Fungsi pembuatan ndarray misalnya numpy.ones, numpy.zeros, dan random mendefinisikan array berdasarkan bentuk yang diinginkan. Fungsi pembuatan ndarray dapat membuat array dengan dimensi apa pun dengan menentukan berapa banyak dimensi dan panjang di sepanjang dimensi itu dalam sebuah tupel atau daftar.\n",
        "\n",
        "numpy.zeros akan membuat array yang diisi dengan 0 nilai dengan bentuk yang ditentukan. Tipe-d default adalah float64:"
      ],
      "metadata": {
        "id": "Vr0GVfosgQpd"
      }
    },
    {
      "cell_type": "code",
      "source": [
        "np.zeros((2, 3))"
      ],
      "metadata": {
        "colab": {
          "base_uri": "https://localhost:8080/"
        },
        "id": "JqzX_NK3gJ59",
        "outputId": "99934f53-2641-4f73-a7c5-3030664be960"
      },
      "execution_count": null,
      "outputs": [
        {
          "output_type": "execute_result",
          "data": {
            "text/plain": [
              "array([[0., 0., 0.],\n",
              "       [0., 0., 0.]])"
            ]
          },
          "metadata": {},
          "execution_count": 18
        }
      ]
    },
    {
      "cell_type": "code",
      "source": [
        "np.zeros((2, 3, 2))"
      ],
      "metadata": {
        "colab": {
          "base_uri": "https://localhost:8080/"
        },
        "id": "SRtl8rGFgfUw",
        "outputId": "7c4b8986-b7f6-4b37-ccc3-dd8ec684febf"
      },
      "execution_count": null,
      "outputs": [
        {
          "output_type": "execute_result",
          "data": {
            "text/plain": [
              "array([[[0., 0.],\n",
              "        [0., 0.],\n",
              "        [0., 0.]],\n",
              "\n",
              "       [[0., 0.],\n",
              "        [0., 0.],\n",
              "        [0., 0.]]])"
            ]
          },
          "metadata": {},
          "execution_count": 19
        }
      ]
    },
    {
      "cell_type": "markdown",
      "source": [
        "numpy.ones akan membuat array yang diisi dengan 1 nilai. Ini identik dengan zerosdalam semua hal lain seperti:"
      ],
      "metadata": {
        "id": "mni31AS5gwIA"
      }
    },
    {
      "cell_type": "code",
      "source": [
        "np.ones((2, 3))"
      ],
      "metadata": {
        "colab": {
          "base_uri": "https://localhost:8080/"
        },
        "id": "BSUNib8Bgm3J",
        "outputId": "a0e7f12c-47b2-4973-883a-2d6fc2002f3e"
      },
      "execution_count": null,
      "outputs": [
        {
          "output_type": "execute_result",
          "data": {
            "text/plain": [
              "array([[1., 1., 1.],\n",
              "       [1., 1., 1.]])"
            ]
          },
          "metadata": {},
          "execution_count": 20
        }
      ]
    },
    {
      "cell_type": "code",
      "source": [
        "np.ones((2, 3, 2))"
      ],
      "metadata": {
        "colab": {
          "base_uri": "https://localhost:8080/"
        },
        "id": "4-xjkykag2C8",
        "outputId": "c1df4bd2-e75d-4e1b-ff4c-fc2138fd01ff"
      },
      "execution_count": null,
      "outputs": [
        {
          "output_type": "execute_result",
          "data": {
            "text/plain": [
              "array([[[1., 1.],\n",
              "        [1., 1.],\n",
              "        [1., 1.]],\n",
              "\n",
              "       [[1., 1.],\n",
              "        [1., 1.],\n",
              "        [1., 1.]]])"
            ]
          },
          "metadata": {},
          "execution_count": 21
        }
      ]
    },
    {
      "cell_type": "markdown",
      "source": [
        "Metode random hasil default_rng akan membuat array yang diisi dengan nilai acak antara 0 dan 1. Ini disertakan dengan numpy.random perpustakaan. Di bawah ini, dua larik dibuat dengan masing-masing bentuk (2,3) dan (2,3,2). Benih diatur ke 42 sehingga Anda dapat mereproduksi angka pseudo random ini:"
      ],
      "metadata": {
        "id": "I4rUQqd_hARE"
      }
    },
    {
      "cell_type": "code",
      "source": [
        "from numpy.random import default_rng\n",
        "default_rng(42).random((2,3))"
      ],
      "metadata": {
        "colab": {
          "base_uri": "https://localhost:8080/"
        },
        "id": "h9iR4zSig5BT",
        "outputId": "e341e192-4073-4b9a-8389-ccfd54d62c8d"
      },
      "execution_count": null,
      "outputs": [
        {
          "output_type": "execute_result",
          "data": {
            "text/plain": [
              "array([[0.77395605, 0.43887844, 0.85859792],\n",
              "       [0.69736803, 0.09417735, 0.97562235]])"
            ]
          },
          "metadata": {},
          "execution_count": 24
        }
      ]
    },
    {
      "cell_type": "code",
      "source": [
        "default_rng(42).random((2,3,2))"
      ],
      "metadata": {
        "colab": {
          "base_uri": "https://localhost:8080/"
        },
        "id": "npQNl_RphPOW",
        "outputId": "a9321e00-da46-4a09-a2fc-52f98818c1ae"
      },
      "execution_count": null,
      "outputs": [
        {
          "output_type": "execute_result",
          "data": {
            "text/plain": [
              "array([[[0.77395605, 0.43887844],\n",
              "        [0.85859792, 0.69736803],\n",
              "        [0.09417735, 0.97562235]],\n",
              "\n",
              "       [[0.7611397 , 0.78606431],\n",
              "        [0.12811363, 0.45038594],\n",
              "        [0.37079802, 0.92676499]]])"
            ]
          },
          "metadata": {},
          "execution_count": 23
        }
      ]
    },
    {
      "cell_type": "markdown",
      "source": [
        "numpy.indices akan membuat satu set larik (ditumpuk sebagai larik berdimensi satu lebih tinggi), satu per dimensi dengan masing-masing mewakili variasi dalam dimensi itu:"
      ],
      "metadata": {
        "id": "NrKJ4M-8h2oo"
      }
    },
    {
      "cell_type": "code",
      "source": [
        "np.indices((3,3))"
      ],
      "metadata": {
        "colab": {
          "base_uri": "https://localhost:8080/"
        },
        "id": "1bm3qHs1hVV_",
        "outputId": "35fbf2e2-6357-4914-a57d-fdd431668e66"
      },
      "execution_count": null,
      "outputs": [
        {
          "output_type": "execute_result",
          "data": {
            "text/plain": [
              "array([[[0, 0, 0],\n",
              "        [1, 1, 1],\n",
              "        [2, 2, 2]],\n",
              "\n",
              "       [[0, 1, 2],\n",
              "        [0, 1, 2],\n",
              "        [0, 1, 2]]])"
            ]
          },
          "metadata": {},
          "execution_count": 25
        }
      ]
    },
    {
      "cell_type": "markdown",
      "source": [
        "Hal ini sangat berguna untuk mengevaluasi fungsi beberapa dimensi pada grid biasa.\n",
        "\n"
      ],
      "metadata": {
        "id": "NNciZafriIg6"
      }
    },
    {
      "cell_type": "markdown",
      "source": [
        "#3) Mereplikasi, menggabungkan, atau mengubah array yang ada \n",
        "Setelah Anda membuat array, Anda dapat mereplikasi, menggabungkan, atau mengubah array yang ada untuk membuat array baru. Saat Anda menetapkan array atau elemennya ke variabel baru, Anda harus secara eksplisit numpy.copyarray, jika tidak, variabel adalah tampilan ke dalam array asli. Perhatikan contoh berikut:"
      ],
      "metadata": {
        "id": "bR5t47hriQmN"
      }
    },
    {
      "cell_type": "code",
      "source": [
        "a = np.array([1, 2, 3, 4, 5, 6])\n",
        "b = a[:2]\n",
        "b += 1\n",
        "print('a =', a, '; b =', b)"
      ],
      "metadata": {
        "colab": {
          "base_uri": "https://localhost:8080/"
        },
        "id": "J7oIoLlhiHWA",
        "outputId": "8be4a6f8-8020-43c8-dc88-6dc778def5f6"
      },
      "execution_count": null,
      "outputs": [
        {
          "output_type": "stream",
          "name": "stdout",
          "text": [
            "a = [2 3 3 4 5 6] ; b = [2 3]\n"
          ]
        }
      ]
    },
    {
      "cell_type": "markdown",
      "source": [
        "Dalam contoh ini, Anda tidak membuat array baru. Anda membuat variabel b, yang melihat 2 elemen pertama dari a. Ketika Anda menambahkan 1 ke b, Anda akan mendapatkan hasil yang sama dengan menambahkan 1 ke a[:2]. Jika Anda ingin membuat array baru , gunakan numpy.copy rutin pembuatan array seperti:"
      ],
      "metadata": {
        "id": "MJlGYGjQjI7I"
      }
    },
    {
      "cell_type": "code",
      "source": [
        "a = np.array([1, 2, 3, 4])\n",
        "b = a[:2].copy()\n",
        "b += 1\n",
        "print('a = ', a, 'b = ', b)"
      ],
      "metadata": {
        "colab": {
          "base_uri": "https://localhost:8080/"
        },
        "id": "noP_d_s9inzW",
        "outputId": "40db9361-269c-4625-e7a2-b2c3b0344850"
      },
      "execution_count": null,
      "outputs": [
        {
          "output_type": "stream",
          "name": "stdout",
          "text": [
            "a =  [1 2 3 4] b =  [2 3]\n"
          ]
        }
      ]
    },
    {
      "cell_type": "markdown",
      "source": [
        "Ada beberapa rutin untuk bergabung dengan array yang ada misalnya numpy.vstack, numpy.hstack, dan numpy.block. Berikut adalah contoh menggabungkan empat larik 2-kali-2 ke dalam larik 4-kali-4 menggunakan block:"
      ],
      "metadata": {
        "id": "VEvt2nNMj9uP"
      }
    },
    {
      "cell_type": "code",
      "source": [
        "A = np.ones((2, 2))\n",
        "B = np.eye(2, 2)\n",
        "C = np.zeros((2, 2))\n",
        "D = np.diag((-3, -4))\n",
        "np.block([[A, B], [C, D]])"
      ],
      "metadata": {
        "colab": {
          "base_uri": "https://localhost:8080/"
        },
        "id": "_NZikPFIjS1v",
        "outputId": "6cedbbab-d75c-486f-f2cf-819f30e7943a"
      },
      "execution_count": null,
      "outputs": [
        {
          "output_type": "execute_result",
          "data": {
            "text/plain": [
              "array([[ 1.,  1.,  1.,  0.],\n",
              "       [ 1.,  1.,  0.,  1.],\n",
              "       [ 0.,  0., -3.,  0.],\n",
              "       [ 0.,  0.,  0., -4.]])"
            ]
          },
          "metadata": {},
          "execution_count": 28
        }
      ]
    },
    {
      "cell_type": "code",
      "source": [],
      "metadata": {
        "id": "Wmwccg1hkD4x"
      },
      "execution_count": null,
      "outputs": []
    },
    {
      "cell_type": "code",
      "source": [],
      "metadata": {
        "id": "Kmj1P30Ek7f8"
      },
      "execution_count": null,
      "outputs": []
    }
  ]
}